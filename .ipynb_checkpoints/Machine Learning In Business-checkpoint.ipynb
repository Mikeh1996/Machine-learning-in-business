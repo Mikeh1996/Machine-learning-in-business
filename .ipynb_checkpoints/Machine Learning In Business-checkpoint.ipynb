{
 "cells": [
  {
   "cell_type": "markdown",
   "metadata": {},
   "source": [
    "# Project: Oil Well Profitability Prediction for OilyGiant\n",
    "\n",
    "## Inspiration\n",
    "This project is a capstone challenge that simulates working as a machine learning specialist in a high-stakes business environment. I will use real-world techniques to help OilyGiant make data-driven decisions on where to drill new oil wells. It’s a test of my ability to combine modeling, business logic, and statistical analysis, all independently.\n",
    "\n",
    "## Project Goal\n",
    "My goal is to determine which of three regions provides the highest profit potential and lowest financial risk for developing 200 new oil wells. I will use linear regression to predict reserve volumes, apply business constraints, and use bootstrapping to analyze profit uncertainty.\n",
    "\n",
    "## Project Plan\n",
    "\n",
    "### Step 1: Data Preparation\n",
    "- Load the datasets: `geo_data_0.csv`, `geo_data_1.csv`, and `geo_data_2.csv`.\n",
    "- Check for missing values, duplicates, or anomalies.\n",
    "- Confirm consistent structure: columns `id`, `f0`, `f1`, `f2`, `product`.\n",
    "\n",
    "### Step 2: Train and Evaluate Models\n",
    "For each of the three datasets:\n",
    "1. Split the data into training (60%), validation & test sets (%20).\n",
    "2. Train a linear regression model.\n",
    "3. Make predictions on the validation set.\n",
    "4. Save the predictions and true `product` values.\n",
    "5. Print:\n",
    "   - Mean predicted reserve volume\n",
    "   - Root Mean Squared Error (RMSE)\n",
    "6. Summarize model accuracy for each region.\n",
    "\n",
    "### Step 3: Prepare for Profit Estimation\n",
    "- Define constants:\n",
    "  - Budget: 100 million USD  \n",
    "  - Wells to develop: 200  \n",
    "  - Revenue per 1,000 barrels: 4,500 USD  \n",
    "- Calculate break-even reserve volume per well.\n",
    "- Compare this to the average predicted reserves per region.\n",
    "- Summarize which regions meet the break-even threshold.\n",
    "\n",
    "### Step 4: Estimate Profit\n",
    "- Write a function that:\n",
    "  - Selects the top 200 predicted wells.\n",
    "  - Sums the actual `product` values for those wells.\n",
    "  - Computes revenue and subtracts the budget.\n",
    "- Run this function for each region.\n",
    "- Identify the most profitable region based on initial model predictions.\n",
    "\n",
    "### Step 5: Risk and Confidence Analysis (Bootstrapping)\n",
    "For each region:\n",
    "1. Draw 1,000 random samples of 500 wells each from the validation set.\n",
    "2. For each sample:\n",
    "   - Predict reserves\n",
    "   - Select top 200\n",
    "   - Calculate profit using the actual `product` values\n",
    "3. Calculate:\n",
    "   - Average profit  \n",
    "   - 95% confidence interval  \n",
    "   - Probability of loss (i.e., negative profit)\n",
    "4. Disqualify regions with more than 2.5% probability of loss.\n",
    "5. From the qualified regions, I will select the one with the highest average profit.\n",
    "\n",
    "### Step 6: Final Recommendation\n",
    "- Recommend a single region to develop based on:\n",
    "  - Model accuracy  \n",
    "  - Average profit  \n",
    "  - Risk level  \n",
    "  - Business constraints  \n",
    "- Summarize the justification clearly and concisely."
   ]
  },
  {
   "cell_type": "markdown",
   "metadata": {},
   "source": [
    "# Importing Libraries and Dataset\n",
    "\n",
    "#### Core libraries"
   ]
  },
  {
   "cell_type": "code",
   "execution_count": null,
   "metadata": {},
   "outputs": [],
   "source": [
    "import numpy as np"
   ]
  },
  {
   "cell_type": "code",
   "execution_count": null,
   "metadata": {},
   "outputs": [],
   "source": [
    "import pandas as pd"
   ]
  },
  {
   "cell_type": "markdown",
   "metadata": {},
   "source": [
    "##### Modeling"
   ]
  },
  {
   "cell_type": "code",
   "execution_count": null,
   "metadata": {},
   "outputs": [],
   "source": [
    "from sklearn.linear_model import LinearRegression"
   ]
  },
  {
   "cell_type": "code",
   "execution_count": null,
   "metadata": {},
   "outputs": [],
   "source": [
    "from sklearn.model_selection import train_test_split"
   ]
  },
  {
   "cell_type": "markdown",
   "metadata": {},
   "source": [
    "##### Evaluation"
   ]
  },
  {
   "cell_type": "code",
   "execution_count": null,
   "metadata": {},
   "outputs": [],
   "source": [
    "from sklearn.metrics import mean_squared_error"
   ]
  },
  {
   "cell_type": "markdown",
   "metadata": {},
   "source": [
    "##### Visualization "
   ]
  },
  {
   "cell_type": "code",
   "execution_count": null,
   "metadata": {},
   "outputs": [],
   "source": [
    "import matplotlib.pyplot as plt"
   ]
  },
  {
   "cell_type": "code",
   "execution_count": null,
   "metadata": {},
   "outputs": [],
   "source": [
    "import seaborn as sns"
   ]
  },
  {
   "cell_type": "markdown",
   "metadata": {},
   "source": [
    "##### Datasets"
   ]
  },
  {
   "cell_type": "code",
   "execution_count": null,
   "metadata": {},
   "outputs": [],
   "source": [
    "geo_data_0 = pd.read_csv(\"/datasets/geo_data_0.csv\")"
   ]
  },
  {
   "cell_type": "code",
   "execution_count": null,
   "metadata": {},
   "outputs": [],
   "source": [
    "geo_data_1 = pd.read_csv(\"/datasets/geo_data_1.csv\")"
   ]
  },
  {
   "cell_type": "code",
   "execution_count": null,
   "metadata": {},
   "outputs": [],
   "source": [
    "geo_data_2 = pd.read_csv(\"/datasets/geo_data_2.csv\")"
   ]
  },
  {
   "cell_type": "markdown",
   "metadata": {},
   "source": [
    "# Analyzing Data"
   ]
  },
  {
   "cell_type": "markdown",
   "metadata": {},
   "source": [
    "Functions for section"
   ]
  },
  {
   "cell_type": "code",
   "execution_count": null,
   "metadata": {},
   "outputs": [],
   "source": [
    "def analyze(df):\n",
    "    display(df.head())\n",
    "    info = df.info()\n",
    "    duplicated_amount = df.duplicated().sum()\n",
    "    missing_values = df.isna().sum()\n",
    "    print(info)\n",
    "    print(f\"\\nDuplicates: {duplicated_amount}\\n\")\n",
    "    print(f\"\\nMissing Values: \\n{missing_values}\\n\")\n",
    "    print(\"Duplicate Ids:\",df['id'].duplicated().sum(), \"\\n\", df['id'].duplicated().head())"
   ]
  },
  {
   "cell_type": "code",
   "execution_count": null,
   "metadata": {},
   "outputs": [],
   "source": [
    "def skewness_and_outliers(df, region_name = \"Region\"): \n",
    "    print(f\"\\nSkewness and Outliers for {region_name}\\n\")\n",
    "    \n",
    "    # Summary stats\n",
    "    print('Descriptive Stats:\\n', df['product'].describe())\n",
    "    \n",
    "    # Quantiles\n",
    "    print('\\nQuantiles:\\n', df['product'].quantile([0.01, 0.25, 0.5, 0.75, 0.99]))\n",
    "    \n",
    "    # Two histograms side by side\n",
    "    plt.figure(figsize = (14, 4))\n",
    "    \n",
    "    # Histogram\n",
    "    plt.subplot(1, 2, 1)\n",
    "    df['product'].hist(bins = 50)\n",
    "    plt.title(f'{region_name} - Product Histogram')\n",
    "    plt.xlabel('Product (thousand barrels)')\n",
    "    plt.ylabel('Frequency')\n",
    "    plt.grid(True)\n",
    "    \n",
    "    # Density histogram\n",
    "    plt.subplot(1, 2, 2)\n",
    "    df['product'].hist(bins = 50, density = True)\n",
    "    plt.title(f'({region_name}) - Product Density Histogram')\n",
    "    plt.xlabel('Product (thousand barrels)')\n",
    "    plt.ylabel('Density')\n",
    "    plt.grid(True)\n",
    "    \n",
    "    plt.tight_layout()\n",
    "    plt.show()\n",
    "    \n",
    "    # Boxplot\n",
    "    plt.figure(figsize = (8, 2))\n",
    "    sns.boxplot(x = df['product'])\n",
    "    plt.title(f'Boxplot of Product Values ({region_name})')\n",
    "    plt.show"
   ]
  },
  {
   "cell_type": "code",
   "execution_count": null,
   "metadata": {},
   "outputs": [],
   "source": [
    "analyze(geo_data_0)"
   ]
  },
  {
   "cell_type": "markdown",
   "metadata": {},
   "source": [
    "The dataset has 5 columns with 100,000 entries, no duplicate rows, no missing values, and all datatypes per column are correct. However 10 duplicate ids have been found. \n",
    "\n",
    "Corrections:\n",
    "    \n",
    "    - Remove rows with duplicate well ids, keep higher production wells."
   ]
  },
  {
   "cell_type": "code",
   "execution_count": null,
   "metadata": {},
   "outputs": [],
   "source": [
    "# Removing duplicate well ids\n",
    "\n",
    "geo_data_0.sort_values('product', ascending=False, inplace=True)\n",
    "geo_data_0.drop_duplicates(subset='id', keep='first', inplace=True)"
   ]
  },
  {
   "cell_type": "code",
   "execution_count": null,
   "metadata": {},
   "outputs": [],
   "source": [
    "# Confirming duplicate ids have been removed\n",
    "geo_data_0['id'].duplicated().sum()"
   ]
  },
  {
   "cell_type": "markdown",
   "metadata": {},
   "source": [
    "Checking for skewness and outliers."
   ]
  },
  {
   "cell_type": "code",
   "execution_count": null,
   "metadata": {},
   "outputs": [],
   "source": [
    "skewness_and_outliers(geo_data_0, region_name = 'geo_data_0')"
   ]
  },
  {
   "cell_type": "markdown",
   "metadata": {},
   "source": [
    "Results for geo_data_0:\n",
    "\n",
    "- Distribution shape: Fairly symmetric and balanced — mean (92.5), median (91.85)\n",
    "\n",
    "- Spread: Moderate variability with reserves ranging from 0 to 185k barrels\n",
    "\n",
    "- Outliers: Some very low producing wells near 0, but no extreme high outliers\n",
    "\n",
    "- Risk insight: The bottom 1% of wells produce less than 5k barrels, potentially unprofitable"
   ]
  },
  {
   "cell_type": "code",
   "execution_count": null,
   "metadata": {},
   "outputs": [],
   "source": [
    "analyze(geo_data_1)"
   ]
  },
  {
   "cell_type": "markdown",
   "metadata": {},
   "source": [
    "The dataset has 5 columns with 100,000 entries, no duplicate rows, no missing values, and all datatypes per column are correct. However 10 duplicate ids have been found. \n",
    "\n",
    "Corrections:\n",
    "    \n",
    "    - Remove rows with duplicate well ids, keep higher production well."
   ]
  },
  {
   "cell_type": "code",
   "execution_count": null,
   "metadata": {},
   "outputs": [],
   "source": [
    "# Removing duplicate well ids\n",
    "geo_data_1.sort_values('product', ascending=False, inplace=True)\n",
    "geo_data_1.drop_duplicates(subset='id', keep='first', inplace=True)"
   ]
  },
  {
   "cell_type": "code",
   "execution_count": null,
   "metadata": {},
   "outputs": [],
   "source": [
    "# Confirming duplicate ids are removed\n",
    "geo_data_1['id'].duplicated().sum()"
   ]
  },
  {
   "cell_type": "code",
   "execution_count": null,
   "metadata": {},
   "outputs": [],
   "source": [
    "skewness_and_outliers(geo_data_1, region_name = 'geo_data_1')"
   ]
  },
  {
   "cell_type": "markdown",
   "metadata": {},
   "source": [
    "Results for geo_data_1:\n",
    "\n",
    "- Average reserves are low: Mean = 68.83k barrels, which is significantly below Region 0 (92.5).\n",
    "\n",
    "- Even distribution: Histogram shows evenly spaced peaks.\n",
    "\n",
    "- 1% of wells are dry: Bottom 1% of wells produce 0 barrels, a risk for investment.\n",
    "\n",
    "- Symmetry and stability: Median (57.09) and mean (68.83) are close, with no visual outliers on boxplot."
   ]
  },
  {
   "cell_type": "code",
   "execution_count": null,
   "metadata": {},
   "outputs": [],
   "source": [
    "analyze(geo_data_2)"
   ]
  },
  {
   "cell_type": "markdown",
   "metadata": {},
   "source": [
    "The dataset has 5 columns with 100,000 entries, no duplicate rows, no missing values, and all datatypes per column are correct. However 10 duplicate ids have been found. \n",
    "\n",
    "Corrections:\n",
    "    \n",
    "    - Remove rows with duplicate well ids, keep higher production well."
   ]
  },
  {
   "cell_type": "code",
   "execution_count": null,
   "metadata": {},
   "outputs": [],
   "source": [
    "# Removing duplicate wells\n",
    "geo_data_2.sort_values('product', ascending=False, inplace=True)\n",
    "geo_data_2.drop_duplicates(subset='id', keep='first', inplace=True)"
   ]
  },
  {
   "cell_type": "code",
   "execution_count": null,
   "metadata": {},
   "outputs": [],
   "source": [
    "# Confirming duplicate ids are removed\n",
    "geo_data_2['id'].duplicated().sum()"
   ]
  },
  {
   "cell_type": "code",
   "execution_count": null,
   "metadata": {},
   "outputs": [],
   "source": [
    "skewness_and_outliers(geo_data_2, region_name = 'geo_data_2')"
   ]
  },
  {
   "cell_type": "markdown",
   "metadata": {},
   "source": [
    "Results for geo_data_2:\n",
    "\n",
    "- Highest average yield of all regions: 95k barrels\n",
    "\n",
    "- Balanced distribution — no skew, no outliers\n",
    "\n",
    "- Top 25% of wells are highly productive (>130k)\n",
    "\n",
    "- Bottom 1% risk still exists (5k barrels), but similar to other regions\n",
    "\n",
    "- Standard deviation is typical (44.75), so the spread is acceptable for modeling and business planning"
   ]
  },
  {
   "cell_type": "markdown",
   "metadata": {},
   "source": [
    "##### Data Analysis Conclusion:\n",
    "\n",
    "Region 2 offers the best overall yield and production range, without introducing more risk than other regions. It is likely the most profitable candidate."
   ]
  },
  {
   "cell_type": "markdown",
   "metadata": {},
   "source": [
    "# Train and Evaluate Models"
   ]
  },
  {
   "cell_type": "markdown",
   "metadata": {},
   "source": [
    "Function for section.\n",
    "\n",
    "Although only a train/validation split is required, a separate test set was added to verify model generalization and ensure robustness in RMSE estimation.\n",
    "\n",
    "Why RMSE over MSE?\n",
    "RMSE (Root Mean Squared Error) is used instead of MSE because it preserves the original units of the target variable, in this case, thousands of barrels. This makes the error more interpretable, if RMSE is 38, it means the model’s predictions deviate by about 38,000 barrels on average. MSE, being squared, would make the interpretation difficult."
   ]
  },
  {
   "cell_type": "code",
   "execution_count": null,
   "metadata": {},
   "outputs": [],
   "source": [
    "def train_validate_model(data, target_column = 'product', data_number = None):\n",
    "    # Features and target\n",
    "    x = data.drop(['id', target_column], axis = 1) # Drop id because its a name tag which serves no predictive value\n",
    "    y = data[target_column]\n",
    "    \n",
    "    # First split 60% / 40%\n",
    "    x_train, x_temp, y_train, y_temp = train_test_split(x, y, test_size = 0.4, random_state = 12345) \n",
    "    # Second split 20% / 20%\n",
    "    x_valid, x_test, y_valid, y_test = train_test_split(x_temp, y_temp, test_size = 0.5, random_state = 12345)\n",
    "    \n",
    "    # Train model\n",
    "    model = LinearRegression() \n",
    "    model.fit(x_train, y_train)\n",
    "    predictions_train = model.predict(x_train)\n",
    "    predictions_valid = model.predict(x_valid)\n",
    "    predictions_test = model.predict(x_test)\n",
    "    \n",
    "    # Evaluation \n",
    "    rmse_train = mean_squared_error(y_train, predictions_train, squared = False)\n",
    "    rmse_valid = mean_squared_error(y_valid, predictions_valid, squared = False)\n",
    "    rmse_test = mean_squared_error(y_test, predictions_test, squared = False)\n",
    "    mean_prediction_train = predictions_train.mean()\n",
    "    mean_prediction_valid = predictions_valid.mean()\n",
    "    mean_prediction_test = predictions_test.mean()\n",
    "    average_prediction_error = (rmse_test / y_test.mean()) * 100\n",
    "    \n",
    "    \n",
    "    return pd.DataFrame([{\n",
    "        'model': model,\n",
    "        'data_number': data_number,\n",
    "        'average_prediction_error': average_prediction_error,\n",
    "        'rmse_train': rmse_train,\n",
    "        'rmse_valid': rmse_valid,\n",
    "        'rmse_test': rmse_test,\n",
    "        'rmse_gap': rmse_valid - rmse_test,\n",
    "        'rmse_train_valid_gap': rmse_train - rmse_valid,\n",
    "        'rmse_train_test_gap': rmse_train - rmse_test,\n",
    "        'mean_prediction_train': mean_prediction_train,\n",
    "        'mean_prediction_valid': mean_prediction_valid,\n",
    "        'mean_prediction_test': mean_prediction_test,\n",
    "        'mean_prediction_valid_gap': mean_prediction_valid - y_valid.mean(),\n",
    "        'mean_prediction_test_gap': mean_prediction_test - y_test.mean(),\n",
    "        'mean_prediction_train_valid_gap': mean_prediction_train - y_valid.mean(),\n",
    "        'mean_prediction_train_test_gap': mean_prediction_test - y_test.mean(),\n",
    "        'x_train': x_train,\n",
    "        'y_train': y_train,\n",
    "        'x_valid': x_valid,\n",
    "        'y_valid': y_valid,\n",
    "        'x_test': x_test,\n",
    "        'y_test': y_test,\n",
    "        'predictions_valid': predictions_valid\n",
    "    }])"
   ]
  },
  {
   "cell_type": "markdown",
   "metadata": {},
   "source": [
    "##### Region 0"
   ]
  },
  {
   "cell_type": "code",
   "execution_count": null,
   "metadata": {},
   "outputs": [],
   "source": [
    "result_0 = train_validate_model(geo_data_0, data_number = 0)\n",
    "result_0"
   ]
  },
  {
   "cell_type": "markdown",
   "metadata": {},
   "source": [
    "###### Interpretation\n",
    "\n",
    "- The model is very stable across train, validation, and test sets.\n",
    "\n",
    "- No signs of overfitting, RMSEs are nearly identical across all splits.\n",
    "\n",
    "- Mean predictions are unbiased, aligned with actual target means.\n",
    "\n",
    "- Average prediction error 41%\n",
    "\n",
    "- This model is suited for profit modeling, it can be trusted to generalize to new data.\n",
    "\n",
    "Next, the same process will be repeated for Regions 1 and 2 to complete the model evaluation phase."
   ]
  },
  {
   "cell_type": "markdown",
   "metadata": {},
   "source": [
    "##### Region 1"
   ]
  },
  {
   "cell_type": "code",
   "execution_count": null,
   "metadata": {},
   "outputs": [],
   "source": [
    "result_1 = train_validate_model(geo_data_1, data_number = 1)\n",
    "pd.set_option('display.max_columns', None)\n",
    "display(result_1)"
   ]
  },
  {
   "cell_type": "markdown",
   "metadata": {},
   "source": [
    "###### Interpretation\n",
    "\n",
    "With a 1.30% average prediction error and low RMSE, we can say the model is highly accurate on average and predicts around 69k barrels per well with very little bias or variance.\n",
    "\n",
    "This performance will be compared to Regions 0 and 2 before selecting a region for profit evaluation."
   ]
  },
  {
   "cell_type": "markdown",
   "metadata": {},
   "source": [
    "##### Region 2"
   ]
  },
  {
   "cell_type": "code",
   "execution_count": null,
   "metadata": {},
   "outputs": [],
   "source": [
    "result_2 = train_validate_model(geo_data_2, data_number = 2)\n",
    "result_2"
   ]
  },
  {
   "cell_type": "markdown",
   "metadata": {},
   "source": [
    "###### Interpretation\n",
    "\n",
    "Region 2's model is well-calibrated and consistent across train, validation, and test sets, with very low prediction bias.\n",
    "However, its average prediction error is high (42%), indicating that although predictions are centered correctly, their spread is wide. This makes individual predictions less reliable, similar to Region 0 in terms of RMSE, but with higher average reserves.\n",
    "\n",
    "All three regional models will now be compared using visualizations and a summary table to help guide profit-focused decision-making."
   ]
  },
  {
   "cell_type": "code",
   "execution_count": null,
   "metadata": {},
   "outputs": [],
   "source": [
    "# Sample summary data from Regions 0, 1, and 2\n",
    "summary_df = pd.DataFrame({\n",
    "    'Region': ['Region 0', 'Region 1', 'Region 2'],\n",
    "    'Mean Product': [92.5, 68.8, 95.0],\n",
    "    'Average Prediction Error (%)': [40.6, 1.3, 42.5]\n",
    "})\n",
    "\n",
    "plt.figure(figsize = (14, 4))\n",
    "\n",
    "\n",
    "# Plot Average Barrels\n",
    "plt.subplot(1, 2, 1)\n",
    "plt.bar(summary_df['Region'], summary_df['Mean Product'], label = 'Average Barrels Produced')\n",
    "plt.title('Average Barrels Produced Across Regions')\n",
    "plt.ylabel('Product')\n",
    "plt.legend()\n",
    "plt.grid(axis='y')\n",
    "\n",
    "# Plot average prediction error\n",
    "plt.subplot(1, 2, 2)\n",
    "plt.bar(summary_df['Region'], summary_df['Average Prediction Error (%)'], color='salmon')\n",
    "plt.title('Average Prediction Error (%) by Region')\n",
    "plt.ylabel('Error Percentage')\n",
    "plt.grid(axis='y')\n",
    "\n",
    "plt.tight_layout()\n",
    "plt.show"
   ]
  },
  {
   "cell_type": "markdown",
   "metadata": {},
   "source": [
    "## Model Training and Evaluation Summary\n",
    "\n",
    "In this section, I trained and evaluated a linear regression model for each of the three regions using a **60/20/20** split for training, validation, and testing. The goal was to predict oil reserves (`product`) and assess how well the model generalizes to new data using **RMSE** and **average prediction error** as metrics.\n",
    "\n",
    "### Key Insights:\n",
    "\n",
    "| Region    | Avg. Reserves (Barrels) | RMSE (Valid) | Prediction Error (%) | Notes |\n",
    "|-----------|--------------------------|---------------|------------------------|-------|\n",
    "| Region 0  | 92.5                     | 37.66         | 41.05%                 | Stable model, moderate reserves, high error |\n",
    "| Region 1  | 68.8                     | 0.89          | 1.30%                  | Excellent accuracy, low variance |\n",
    "| Region 2  | 95.0                     | 40.07         | 42.14%                 | High reserves, but high prediction spread |\n",
    "\n",
    "### Visual Comparison:\n",
    "- **Left Chart:** Region 2 has the highest average predicted reserves, followed closely by Region 0.\n",
    "- **Right Chart:** Region 1 outperforms in accuracy by a wide margin, with less than 2.5% error, while Regions 0 and 2 have errors exceeding 40%.\n",
    "\n",
    "### Conclusion:\n",
    "- **Region 1** is most reliable for consistent predictions and minimal risk.\n",
    "- **Region 2** may offer the highest returns, but with less confidence in individual predictions.\n",
    "- All models were stable across train/valid/test, indicating no signs of overfitting."
   ]
  },
  {
   "cell_type": "markdown",
   "metadata": {},
   "source": [
    "# Prepare for Profit Estimation\n",
    "\n",
    "### Constants:\n",
    "- Budget: 100,000,000 USD  \n",
    "- Revenue per 1,000 barrels: 4,500 USD \n",
    "- Wells to develop: 200 "
   ]
  },
  {
   "cell_type": "code",
   "execution_count": null,
   "metadata": {},
   "outputs": [],
   "source": [
    "budget = 100_000_000\n",
    "rev_per_1k_barrels = 4_500\n",
    "wells_to_dev = 200"
   ]
  },
  {
   "cell_type": "markdown",
   "metadata": {},
   "source": [
    "Cost per well."
   ]
  },
  {
   "cell_type": "code",
   "execution_count": null,
   "metadata": {},
   "outputs": [],
   "source": [
    "cost_per_well = budget / wells_to_dev\n",
    "cost_per_well"
   ]
  },
  {
   "cell_type": "markdown",
   "metadata": {},
   "source": [
    "Break even volume per well."
   ]
  },
  {
   "cell_type": "code",
   "execution_count": null,
   "metadata": {},
   "outputs": [],
   "source": [
    "break_even_vol = cost_per_well / rev_per_1k_barrels\n",
    "print(f\"Break even volume per well: {break_even_vol:.2f} thousand barrels\")"
   ]
  },
  {
   "cell_type": "markdown",
   "metadata": {},
   "source": [
    "Checking to see if average predicted reserves exceed break even in all regions:\n",
    "\n",
    "| Region    | Avg. Reserves (Barrels) | \n",
    "|-----------|--------------------------|\n",
    "| Region 0  | 92.5                     | \n",
    "| Region 1  | 68.8                     | \n",
    "| Region 2  | 95.0                     |\n",
    "\n",
    "Although none of the regions exceed the break-even volume of 111.11 thousand barrels per well on average, the investment strategy targets only the top 200 wells per region. This makes the average less relevant, as profits depend on the high-performing subset.\n",
    "\n",
    "The bootstrapping analysis will test whether the selected top 200 wells (from each random sample of 500) can consistently produce enough total volume to exceed the break-even threshold."
   ]
  },
  {
   "cell_type": "markdown",
   "metadata": {},
   "source": [
    "# Estimate Profit"
   ]
  },
  {
   "cell_type": "markdown",
   "metadata": {},
   "source": [
    "Function for section"
   ]
  },
  {
   "cell_type": "code",
   "execution_count": null,
   "metadata": {},
   "outputs": [],
   "source": [
    "def calculate_profit(predictions, actuals, count = wells_to_dev, budget = budget, revenue_per_1k = rev_per_1k_barrels):\n",
    "    # Step 1: Get indices of top 200 predictions\n",
    "    top_200_indices = predictions.argsort()[-200:]\n",
    "    # Step 2: Use those indices to get the actual reserve\n",
    "    top_200_actuals = actuals.iloc[top_200_indices]\n",
    "    # Step 3: Compute total revenue = sum(actual reserves) × 4500\n",
    "    revenue = top_200_actuals.sum() * revenue_per_1k\n",
    "    # Step 4: Subtract $10M budget\n",
    "    profit = revenue - budget\n",
    "    # Step 5: Return profit\n",
    "    return profit"
   ]
  },
  {
   "cell_type": "markdown",
   "metadata": {},
   "source": [
    "##### Region 0 Profit Calculation"
   ]
  },
  {
   "cell_type": "code",
   "execution_count": null,
   "metadata": {},
   "outputs": [],
   "source": [
    "row_0 = result_0.iloc[0]\n",
    "profit_0 = calculate_profit(row_0['predictions_valid'], row_0['y_valid'])\n",
    "print(f\"Estimated profit for Region 0: ${profit_0:.2f}\")"
   ]
  },
  {
   "cell_type": "markdown",
   "metadata": {},
   "source": [
    "###### Region 0 Profit Calculation Summary\n",
    "**Estimated profit for Region 0: $29,891,464.19**\n",
    "\n",
    "**Region 0 Profit Calculation Summary**\n",
    "\n",
    "If the top 200 wells are selected based on the model's predictions, the actual reserves from those wells would generate approximately **29.9 million in net profit**, after subtracting the full **100 million budget**.\n",
    "\n",
    "This result is based on validation set outcomes and assumes an effective well selection strategy driven by the model. While the region's average reserves are below the break-even threshold, targeted selection of high-performing wells enables a profitable outcome."
   ]
  },
  {
   "cell_type": "markdown",
   "metadata": {},
   "source": [
    "##### Region 1 Profit Calculation"
   ]
  },
  {
   "cell_type": "code",
   "execution_count": null,
   "metadata": {},
   "outputs": [],
   "source": [
    "row_1 = result_1.iloc[0]\n",
    "profit_1 = calculate_profit(row_1['predictions_valid'], row_1['y_valid'])\n",
    "print(f\"Estimated profit for Region 1: ${profit_1:.2f}\")"
   ]
  },
  {
   "cell_type": "markdown",
   "metadata": {},
   "source": [
    "###### Region 1 Profit Calculation Summary\n",
    "**Estimated profit for Region 1: $24,150,866.97**\n",
    "\n",
    "**Region 1 Profit Calculation Summary**\n",
    "\n",
    "Based on actual reserves from the top 200 wells selected by the model, Region 1 is projected to generate approximately **24.15 million in net profit** after accounting for the full **100 million investment budget**.\n",
    "\n",
    "Despite having lower average reserves (68.8k barrels per well), Region 1 achieves strong profitability due to the **model’s exceptional accuracy (1.30% error)** and **very low RMSE**, which enables more reliable well selection. This makes Region 1 a compelling option under the targeted investment strategy."
   ]
  },
  {
   "cell_type": "markdown",
   "metadata": {},
   "source": [
    "##### Region 2 Profit Calculation"
   ]
  },
  {
   "cell_type": "code",
   "execution_count": null,
   "metadata": {},
   "outputs": [],
   "source": [
    "row_2 = result_2.iloc[0]\n",
    "profit_2 = calculate_profit(row_2['predictions_valid'], row_2['y_valid'])\n",
    "print(f\"Estimated profit for Region 2: ${profit_2:.2f}\")"
   ]
  },
  {
   "cell_type": "markdown",
   "metadata": {},
   "source": [
    "###### Region 2 Profit Calculation Summary\n",
    "**Estimated profit for Region 2: $25,658,945.30**\n",
    "\n",
    "**Region 2 Profit Calculation Summary**\n",
    "\n",
    "Investing in Region 2’s top 200 wells, as selected by the model, is projected to yield approximately **25.66 million in net profit** after subtracting the full **100 million investment budget**.\n",
    "\n",
    "While Region 2 has the highest average reserves (95.0k barrels), the model’s predictions come with greater variance and higher error (42.14%). Nevertheless, the selection of top-performing wells still results in a solid return, making Region 2 a competitive, slightly riskier, candidate."
   ]
  },
  {
   "cell_type": "code",
   "execution_count": null,
   "metadata": {},
   "outputs": [],
   "source": [
    "# Bar chart to compare profits\n",
    "\n",
    "# Region profit results\n",
    "profits = {\n",
    "    'Region 0': profit_0,\n",
    "    'Region 1': profit_1,\n",
    "    'Region 2': profit_2\n",
    "}\n",
    "\n",
    "# Convert to dataframe for plottting\n",
    "profit_df = pd.DataFrame(list(profits.items()), columns = ['Region', 'Estimated Profit'])\n",
    "\n",
    "# Plotting\n",
    "plt.figure(figsize = (8, 5))\n",
    "plt.bar(profit_df['Region'], profit_df['Estimated Profit'], color = ['skyblue', 'lightgreen', 'salmon'])\n",
    "plt.title('Estimated Profit From Top 200 Wells per Region')\n",
    "plt.ylabel('Profit ($)')\n",
    "plt.grid(axis = 'y')\n",
    "plt.tight_layout()"
   ]
  },
  {
   "cell_type": "markdown",
   "metadata": {},
   "source": [
    "## Estimate Profit Summary\n",
    "\n",
    "- Region 0 delivers the highest estimated profit despite having a relatively high prediction error.\n",
    "\n",
    "- Region 1 is the most accurate and consistent, with the lowest RMSE and error, but slightly less profit.\n",
    "\n",
    "- Region 2 is a middle ground, great reserves and decent profit, but also the highest uncertainty.\n",
    "\n",
    "Based on validation results, Region 0 offers the highest expected profit from developing the top 200 predicted wells, followed by Region 2 and Region 1. However, Region 0 and 2 come with significantly higher prediction error (40%+), whereas Region 1’s model is highly accurate and consistent. Profitability must therefore be balanced against model confidence and risk, which will be addressed in the next step via bootstrapping."
   ]
  },
  {
   "cell_type": "markdown",
   "metadata": {},
   "source": [
    "# Risk and Confidence Analysis (Bootstrapping)"
   ]
  },
  {
   "cell_type": "markdown",
   "metadata": {},
   "source": [
    "Bootstrapping function"
   ]
  },
  {
   "cell_type": "code",
   "execution_count": null,
   "metadata": {},
   "outputs": [],
   "source": [
    "def bootstrap_profit(model, features, targets, iterations = 1000, wells_sample = 500, top_n = 200):\n",
    "    profits = []\n",
    "\n",
    "    for _ in range(iterations):\n",
    "        # 1. Sample indices (with replacement)\n",
    "        sample_indices = np.random.choice(features.index, size = wells_sample, replace = False)\n",
    "        \n",
    "        # 2. Get the sampled features and targets\n",
    "        sampled_features = features.loc[sample_indices]\n",
    "        sampled_targets = targets.loc[sample_indices]\n",
    "\n",
    "        # 3. Predict reserves for the sample\n",
    "        predicted = model.predict(sampled_features)\n",
    "\n",
    "        # 4. Select indices of top 200 predictions\n",
    "        top_indices = predicted.argsort()[-top_n:]\n",
    "\n",
    "        # 5. Get actual values for those top wells\n",
    "        actual_top = sampled_targets.iloc[top_indices]\n",
    "\n",
    "        # 6. Calculate profit\n",
    "        total_revenue = actual_top.sum() * rev_per_1k_barrels\n",
    "        profit = actual_top.sum() * 4500 - 100_000_000\n",
    "        profits.append(profit)\n",
    "\n",
    "    return profits"
   ]
  },
  {
   "cell_type": "markdown",
   "metadata": {},
   "source": [
    "##### Region 0"
   ]
  },
  {
   "cell_type": "code",
   "execution_count": null,
   "metadata": {},
   "outputs": [],
   "source": [
    "region_0_bs = bootstrap_profit(model = row_0['model'], features = row_0['x_valid'], targets = row_0['y_valid'])"
   ]
  },
  {
   "cell_type": "code",
   "execution_count": null,
   "metadata": {},
   "outputs": [],
   "source": [
    "avg_profit_0 = np.mean(region_0_bs) # Average profit\n",
    "\n",
    "conf_int_0 = np.percentile(region_0_bs, [2.5, 97.5]) # 95% confidence interval\n",
    "\n",
    "loss_probability_0 = np.mean(np.array(region_0_bs) < 0) * 100 # Probability of loss if profit < 0"
   ]
  },
  {
   "cell_type": "code",
   "execution_count": null,
   "metadata": {},
   "outputs": [],
   "source": [
    "print(f\"Region 0 \\nAverage Profit: {avg_profit_0:.2f}\\nConfidence Interval: {conf_int_0}\\nLoss Probabilty: {loss_probability_0}\")"
   ]
  },
  {
   "cell_type": "markdown",
   "metadata": {},
   "source": [
    "###### Region 0 Bootstrapping Summary\n",
    "\n",
    "- **Average Profit:** 4,369,246.86  \n",
    "- **95% Confidence Interval:** -656,366 to 9,367,585  \n",
    "- **Probability of Loss:** 4.4% *(Exceeds the 2.5% risk threshold)*\n",
    "\n",
    "**Interpretation:**\n",
    "\n",
    "While Region 0's model identifies profitable wells and delivers a **positive average return**, the **risk of loss (4.4%) exceeds the acceptable threshold** defined by the business requirement (≤2.5%).\n",
    "\n",
    "**Confidence Interval Interpretation – Region 0**\n",
    "\n",
    "The 95% confidence interval for Region 0 ranges from **-656,366 to 9,367,585**, indicating substantial uncertainty in profit outcomes. This means that in some simulated investment scenarios, the project could even result in a **net loss**.\n",
    "\n",
    "Such a wide interval reflects **high variability** in well performance and model predictions. The spread suggests that even though the average profit is positive, the investment results are **not consistently reliable**. This lack of stability, combined with a **loss probability of 4.4%**, makes Region 0 a **risky candidate** that fails to meet the defined risk criteria.\n",
    "\n",
    "This indicates that, although profitable in many cases, Region 0 introduces too much variability to justify investment under strict risk constraints. Therefore, Region 0 is **not eligible** for final recommendation.\n"
   ]
  },
  {
   "cell_type": "markdown",
   "metadata": {},
   "source": [
    "##### Region 1"
   ]
  },
  {
   "cell_type": "code",
   "execution_count": null,
   "metadata": {},
   "outputs": [],
   "source": [
    "region_1_bs = bootstrap_profit(model = row_1['model'], features = row_1['x_valid'], targets = row_1['y_valid'])"
   ]
  },
  {
   "cell_type": "code",
   "execution_count": null,
   "metadata": {},
   "outputs": [],
   "source": [
    "avg_profit_1 = np.mean(region_1_bs) # Average profit\n",
    "\n",
    "conf_int_1 = np.percentile(region_1_bs, [2.5, 97.5]) # 95% confidence interval\n",
    "\n",
    "loss_probability_1 = np.mean(np.array(region_1_bs) < 0) * 100 # Probability of loss if profit < 0"
   ]
  },
  {
   "cell_type": "code",
   "execution_count": null,
   "metadata": {},
   "outputs": [],
   "source": [
    "print(f\"Region 1 \\nAverage Profit: {avg_profit_1:.2f}\\nConfidence Interval: {conf_int_1}\\nLoss Probabilty: {loss_probability_1}\")"
   ]
  },
  {
   "cell_type": "markdown",
   "metadata": {},
   "source": [
    "###### Region 1 Bootstrapping Summary\n",
    "\n",
    "- **Average Profit:** 4,166,571.24  \n",
    "- **95% Confidence Interval:** 524,696 to 8,124,816  \n",
    "- **Probability of Loss:** 1.3% *(Below the 2.5% risk threshold)*\n",
    "\n",
    "**Interpretation:**\n",
    "\n",
    "Region 1 shows a strong and **consistent profit profile**, with an average net profit of approximately **4.17 million** per simulation. The **probability of loss is just 1.3%**, making it compliant with the company’s risk tolerance.\n",
    "\n",
    "The **95% confidence interval** ranges from **524k to 8.12M**, which—although not extremely tight, is entirely **above zero**, indicating **a low likelihood of negative returns**. This range is significantly more stable compared to Region 0, reflecting **lower variability in outcomes** and stronger reliability of the model’s well selection.\n",
    "\n",
    "Combined with its **very low RMSE (0.89)** and **minimal prediction error (1.29%)**, Region 1 is clearly the **most accurate and low-risk option** for investment.\n"
   ]
  },
  {
   "cell_type": "markdown",
   "metadata": {},
   "source": [
    "##### Region 2"
   ]
  },
  {
   "cell_type": "code",
   "execution_count": null,
   "metadata": {},
   "outputs": [],
   "source": [
    "region_2_bs = bootstrap_profit(model = row_2['model'], features = row_2['x_valid'], targets = row_2['y_valid'])"
   ]
  },
  {
   "cell_type": "code",
   "execution_count": null,
   "metadata": {},
   "outputs": [],
   "source": [
    "avg_profit_2 = np.mean(region_2_bs) # Average profit\n",
    "\n",
    "conf_int_2 = np.percentile(region_2_bs, [2.5, 97.5]) # 95% confidence interval\n",
    "\n",
    "loss_probability_2 = np.mean(np.array(region_2_bs) < 0) * 100 # Probability of loss if profit < 0"
   ]
  },
  {
   "cell_type": "code",
   "execution_count": null,
   "metadata": {},
   "outputs": [],
   "source": [
    "print(f\"Region 2 \\nAverage Profit: {avg_profit_2:.2f}\\nConfidence Interval: {conf_int_2}\\nLoss Probabilty: {loss_probability_2}\")"
   ]
  },
  {
   "cell_type": "markdown",
   "metadata": {},
   "source": [
    "###### Region 2 Bootstrapping Summary\n",
    "\n",
    "- **Average Profit:** 3,117,091.44  \n",
    "- **95% Confidence Interval:** -1,976,972 to 8,272,104  \n",
    "- **Probability of Loss:** 13.1% *(Above the 2.5% risk threshold)*\n",
    "\n",
    "**Interpretation:**\n",
    "\n",
    "Although Region 2 offers the **highest average reserves (95k barrels)** across all regions, its **bootstrapped profit distribution reveals significant risk**. With a **13.1% chance of loss** and a confidence interval that dips nearly **2 million below zero**, Region 2 fails to meet the required risk tolerance.\n",
    "\n",
    "The **wide and asymmetric confidence interval** suggests that well performance in Region 2 is **highly variable**, making outcomes less predictable. While some top-performing wells contribute to strong profits in certain samples, others fall far short, leading to a higher risk of negative return.\n",
    "\n",
    "Given this volatility, Region 2 is **not recommended for development** under the current investment constraints."
   ]
  },
  {
   "cell_type": "code",
   "execution_count": null,
   "metadata": {},
   "outputs": [],
   "source": [
    "# Plot histogram of profits for all 3 regions\n",
    "plt.figure(figsize=(12, 6))\n",
    "\n",
    "plt.hist(region_0_bs, bins=50, alpha=0.6, label='Region 0', color='skyblue')\n",
    "plt.hist(region_1_bs, bins=50, alpha=0.6, label='Region 1', color='lightgreen')\n",
    "plt.hist(region_2_bs, bins=50, alpha=0.6, label='Region 2', color='salmon')\n",
    "\n",
    "plt.title('Bootstrapped Profit Distribution by Region')\n",
    "plt.xlabel('Profit ($)')\n",
    "plt.ylabel('Frequency')\n",
    "plt.legend()\n",
    "plt.grid(True)\n",
    "plt.tight_layout()"
   ]
  },
  {
   "cell_type": "markdown",
   "metadata": {},
   "source": [
    "## Risk and Confidence Final Summary\n",
    "\n",
    "| Region   | Average Profit     | 95% Confidence Interval       | Loss Probability |\n",
    "|----------|--------------------|-------------------------------|------------------|\n",
    "| Region 0 | 4.37 million      | -656K to 9.37M              | **4.4%**       |\n",
    "| Region 1 | 4.17 million      | 525K to 8.12M               | **1.3%**       |\n",
    "| Region 2 | 3.12 million      | -1.98M to 8.27M             | **13.1%**      |\n",
    "\n",
    "Only **Region 1** meets the risk criteria, with a loss probability below the **2.5% threshold** required for investment.\n",
    "\n",
    "- **Region 1** stands out as the **only low-risk option**, offering consistent profits and the **lowest prediction error (1.29%)**.\n",
    "- **Region 0** has similar average returns but a higher probability of loss and a confidence interval that includes negative values.\n",
    "- **Region 2**, despite having the highest average reserves, is the **most volatile**, with a large spread in outcomes and the highest risk of financial loss."
   ]
  },
  {
   "cell_type": "markdown",
   "metadata": {},
   "source": [
    "# Final Recommendation\n",
    "\n",
    "After evaluating all three regions across key business and modeling criteria, I recommend **developing Region 1**.\n",
    "\n",
    "### Justification:\n",
    "\n",
    "| Factor                  | Region 0               | Region 1               | Region 2               |\n",
    "|-------------------------|------------------------|------------------------|------------------------|\n",
    "| **Model Accuracy**      | RMSE = 37.66 (high error) | RMSE = 0.89 (lowest error) | RMSE = 40.08 (high error) |\n",
    "| **Avg. Profit**         | 4.37M                 | 4.17M                 | 3.12M                 |\n",
    "| **Risk (Loss %)**       | 4.4%                | 1.3%                | 13.1%               |\n",
    "| **Confidence Interval** | -656K to 9.37M       | 525K to 8.12M        | -1.98M to 8.27M      |\n",
    "\n",
    "### Summary:\n",
    "- **Region 1** is the **only region** that meets the required **risk threshold** of less than 2.5%.\n",
    "- It has the **lowest RMSE (0.89)** and **most accurate predictions**, enabling better selection of top-performing wells.\n",
    "- Its **confidence interval is fully above zero**, reflecting more consistent returns than Region 0 and significantly less risk than Region 2.\n",
    "- While Region 0 has slightly higher profit on average, it **exceeds the acceptable risk level** and includes a chance of loss.\n",
    "\n",
    "### Business Decision:\n",
    "> **Invest in Region 1.**  \n",
    "> It delivers strong returns, meets the company’s risk policy, and offers the **best trade-off between profit and reliability**—critical for high-stakes oil well development."
   ]
  }
 ],
 "metadata": {
  "ExecuteTimeLog": [
   {
    "duration": 159,
    "start_time": "2025-05-04T23:34:06.100Z"
   },
   {
    "duration": 139,
    "start_time": "2025-05-04T23:34:12.795Z"
   },
   {
    "duration": 503,
    "start_time": "2025-05-04T23:38:18.305Z"
   },
   {
    "duration": 2,
    "start_time": "2025-05-04T23:38:54.854Z"
   },
   {
    "duration": 2,
    "start_time": "2025-05-04T23:39:32.590Z"
   },
   {
    "duration": 1846,
    "start_time": "2025-05-04T23:42:09.806Z"
   },
   {
    "duration": 62,
    "start_time": "2025-05-04T23:42:21.961Z"
   },
   {
    "duration": 103,
    "start_time": "2025-05-04T23:45:54.033Z"
   },
   {
    "duration": 98,
    "start_time": "2025-05-04T23:46:26.196Z"
   },
   {
    "duration": 100,
    "start_time": "2025-05-04T23:46:50.904Z"
   },
   {
    "duration": 4,
    "start_time": "2025-05-04T23:48:10.113Z"
   },
   {
    "duration": 48,
    "start_time": "2025-05-04T23:49:23.576Z"
   },
   {
    "duration": 44,
    "start_time": "2025-05-04T23:56:30.947Z"
   },
   {
    "duration": 48,
    "start_time": "2025-05-04T23:57:45.531Z"
   },
   {
    "duration": 276,
    "start_time": "2025-05-05T00:06:14.531Z"
   },
   {
    "duration": 75,
    "start_time": "2025-05-05T00:06:30.941Z"
   },
   {
    "duration": 82,
    "start_time": "2025-05-05T00:06:31.263Z"
   },
   {
    "duration": 75,
    "start_time": "2025-05-05T00:06:31.552Z"
   },
   {
    "duration": 14,
    "start_time": "2025-05-05T00:06:39.248Z"
   },
   {
    "duration": 609,
    "start_time": "2025-05-05T00:06:46.648Z"
   },
   {
    "duration": 4,
    "start_time": "2025-05-05T00:08:24.354Z"
   },
   {
    "duration": 5,
    "start_time": "2025-05-05T00:09:00.208Z"
   },
   {
    "duration": 7,
    "start_time": "2025-05-05T00:09:00.884Z"
   },
   {
    "duration": 5,
    "start_time": "2025-05-05T00:10:48.716Z"
   },
   {
    "duration": 13,
    "start_time": "2025-05-05T00:13:12.699Z"
   },
   {
    "duration": 12,
    "start_time": "2025-05-05T00:13:47.233Z"
   },
   {
    "duration": 7,
    "start_time": "2025-05-05T00:17:39.542Z"
   },
   {
    "duration": 13,
    "start_time": "2025-05-05T00:21:30.413Z"
   },
   {
    "duration": 10,
    "start_time": "2025-05-05T00:21:38.033Z"
   },
   {
    "duration": 8,
    "start_time": "2025-05-05T00:26:16.344Z"
   },
   {
    "duration": 4,
    "start_time": "2025-05-05T00:27:39.584Z"
   },
   {
    "duration": 4,
    "start_time": "2025-05-05T00:30:45.881Z"
   },
   {
    "duration": 4,
    "start_time": "2025-05-05T00:31:04.554Z"
   },
   {
    "duration": 9,
    "start_time": "2025-05-05T00:54:01.038Z"
   },
   {
    "duration": 5,
    "start_time": "2025-05-05T00:54:23.129Z"
   },
   {
    "duration": 23,
    "start_time": "2025-05-05T00:58:56.668Z"
   },
   {
    "duration": 24,
    "start_time": "2025-05-05T00:59:18.926Z"
   },
   {
    "duration": 6,
    "start_time": "2025-05-05T01:00:10.305Z"
   },
   {
    "duration": 23,
    "start_time": "2025-05-05T01:00:11.340Z"
   },
   {
    "duration": 5,
    "start_time": "2025-05-05T03:36:19.309Z"
   },
   {
    "duration": 14,
    "start_time": "2025-05-05T03:36:38.264Z"
   },
   {
    "duration": 4,
    "start_time": "2025-05-05T03:37:04.083Z"
   },
   {
    "duration": 13,
    "start_time": "2025-05-05T03:37:30.771Z"
   },
   {
    "duration": 171,
    "start_time": "2025-05-05T14:47:48.371Z"
   },
   {
    "duration": 163,
    "start_time": "2025-05-05T14:47:48.545Z"
   },
   {
    "duration": 524,
    "start_time": "2025-05-05T14:47:48.709Z"
   },
   {
    "duration": 3,
    "start_time": "2025-05-05T14:47:49.236Z"
   },
   {
    "duration": 3,
    "start_time": "2025-05-05T14:47:49.242Z"
   },
   {
    "duration": 2248,
    "start_time": "2025-05-05T14:47:49.247Z"
   },
   {
    "duration": 83,
    "start_time": "2025-05-05T14:47:51.497Z"
   },
   {
    "duration": 124,
    "start_time": "2025-05-05T14:47:51.583Z"
   },
   {
    "duration": 105,
    "start_time": "2025-05-05T14:47:51.708Z"
   },
   {
    "duration": 123,
    "start_time": "2025-05-05T14:47:51.816Z"
   },
   {
    "duration": 4,
    "start_time": "2025-05-05T14:47:51.941Z"
   },
   {
    "duration": 56,
    "start_time": "2025-05-05T14:47:51.946Z"
   },
   {
    "duration": 71,
    "start_time": "2025-05-05T14:47:52.004Z"
   },
   {
    "duration": 65,
    "start_time": "2025-05-05T14:47:52.078Z"
   },
   {
    "duration": 6,
    "start_time": "2025-05-05T14:47:52.145Z"
   },
   {
    "duration": 487,
    "start_time": "2025-05-05T14:47:52.153Z"
   },
   {
    "duration": 0,
    "start_time": "2025-05-05T14:47:52.642Z"
   },
   {
    "duration": 5,
    "start_time": "2025-05-05T15:14:16.345Z"
   },
   {
    "duration": 24,
    "start_time": "2025-05-05T15:14:17.401Z"
   },
   {
    "duration": 3,
    "start_time": "2025-05-05T15:14:19.155Z"
   },
   {
    "duration": 3,
    "start_time": "2025-05-05T15:26:44.513Z"
   },
   {
    "duration": 24,
    "start_time": "2025-05-05T15:39:02.853Z"
   },
   {
    "duration": 3,
    "start_time": "2025-05-05T15:39:38.489Z"
   },
   {
    "duration": 26,
    "start_time": "2025-05-05T15:41:39.615Z"
   },
   {
    "duration": 3,
    "start_time": "2025-05-05T15:41:57.657Z"
   },
   {
    "duration": 146,
    "start_time": "2025-05-05T18:13:54.940Z"
   },
   {
    "duration": 149,
    "start_time": "2025-05-05T18:13:55.088Z"
   },
   {
    "duration": 446,
    "start_time": "2025-05-05T18:13:55.238Z"
   },
   {
    "duration": 3,
    "start_time": "2025-05-05T18:13:55.686Z"
   },
   {
    "duration": 4,
    "start_time": "2025-05-05T18:13:55.690Z"
   },
   {
    "duration": 1907,
    "start_time": "2025-05-05T18:13:55.695Z"
   },
   {
    "duration": 59,
    "start_time": "2025-05-05T18:13:57.604Z"
   },
   {
    "duration": 108,
    "start_time": "2025-05-05T18:13:57.665Z"
   },
   {
    "duration": 99,
    "start_time": "2025-05-05T18:13:57.775Z"
   },
   {
    "duration": 106,
    "start_time": "2025-05-05T18:13:57.879Z"
   },
   {
    "duration": 4,
    "start_time": "2025-05-05T18:13:57.987Z"
   },
   {
    "duration": 49,
    "start_time": "2025-05-05T18:13:57.993Z"
   },
   {
    "duration": 60,
    "start_time": "2025-05-05T18:13:58.044Z"
   },
   {
    "duration": 47,
    "start_time": "2025-05-05T18:13:58.106Z"
   },
   {
    "duration": 17,
    "start_time": "2025-05-05T18:13:58.155Z"
   },
   {
    "duration": 25,
    "start_time": "2025-05-05T18:13:58.174Z"
   },
   {
    "duration": 66,
    "start_time": "2025-05-05T18:13:58.205Z"
   },
   {
    "duration": 102,
    "start_time": "2025-05-05T18:13:58.273Z"
   },
   {
    "duration": 3,
    "start_time": "2025-05-05T18:13:58.377Z"
   },
   {
    "duration": 90,
    "start_time": "2025-05-05T18:13:58.386Z"
   },
   {
    "duration": 3,
    "start_time": "2025-05-05T18:13:58.478Z"
   },
   {
    "duration": 2,
    "start_time": "2025-05-05T18:20:20.312Z"
   },
   {
    "duration": 2,
    "start_time": "2025-05-05T18:21:34.292Z"
   },
   {
    "duration": 2,
    "start_time": "2025-05-05T18:22:04.720Z"
   },
   {
    "duration": 7,
    "start_time": "2025-05-05T18:56:58.629Z"
   },
   {
    "duration": 3,
    "start_time": "2025-05-05T19:30:23.681Z"
   },
   {
    "duration": 49,
    "start_time": "2025-05-05T19:30:24.344Z"
   },
   {
    "duration": 5,
    "start_time": "2025-05-05T19:57:37.768Z"
   },
   {
    "duration": 5,
    "start_time": "2025-05-05T20:10:21.363Z"
   },
   {
    "duration": 528,
    "start_time": "2025-05-05T20:12:20.716Z"
   },
   {
    "duration": 5,
    "start_time": "2025-05-05T20:12:45.355Z"
   },
   {
    "duration": 54,
    "start_time": "2025-05-05T20:12:45.840Z"
   },
   {
    "duration": 507,
    "start_time": "2025-05-05T20:12:51.837Z"
   },
   {
    "duration": 5,
    "start_time": "2025-05-05T20:13:15.096Z"
   },
   {
    "duration": 48,
    "start_time": "2025-05-05T20:13:15.632Z"
   },
   {
    "duration": 619,
    "start_time": "2025-05-05T20:13:19.907Z"
   },
   {
    "duration": 499,
    "start_time": "2025-05-05T20:30:41.136Z"
   },
   {
    "duration": 499,
    "start_time": "2025-05-05T21:13:51.841Z"
   },
   {
    "duration": 5,
    "start_time": "2025-05-05T21:15:38.290Z"
   },
   {
    "duration": 47,
    "start_time": "2025-05-05T21:15:38.644Z"
   },
   {
    "duration": 495,
    "start_time": "2025-05-05T21:15:42.447Z"
   },
   {
    "duration": 43,
    "start_time": "2025-05-05T21:15:46.442Z"
   },
   {
    "duration": 562,
    "start_time": "2025-05-05T21:15:49.194Z"
   },
   {
    "duration": 45,
    "start_time": "2025-05-05T21:15:54.615Z"
   },
   {
    "duration": 507,
    "start_time": "2025-05-05T21:15:57.194Z"
   },
   {
    "duration": 5,
    "start_time": "2025-05-05T21:36:08.913Z"
   },
   {
    "duration": 24,
    "start_time": "2025-05-05T21:36:11.962Z"
   },
   {
    "duration": 45,
    "start_time": "2025-05-05T21:36:27.638Z"
   },
   {
    "duration": 6,
    "start_time": "2025-05-05T22:06:06.688Z"
   },
   {
    "duration": 71,
    "start_time": "2025-05-05T22:06:08.411Z"
   },
   {
    "duration": 6,
    "start_time": "2025-05-05T22:12:03.997Z"
   },
   {
    "duration": 123,
    "start_time": "2025-05-05T22:12:04.851Z"
   },
   {
    "duration": 6,
    "start_time": "2025-05-05T22:16:01.226Z"
   },
   {
    "duration": 92,
    "start_time": "2025-05-05T22:16:02.089Z"
   },
   {
    "duration": 21,
    "start_time": "2025-05-05T22:17:53.303Z"
   },
   {
    "duration": 48,
    "start_time": "2025-05-05T22:18:05.235Z"
   },
   {
    "duration": 6,
    "start_time": "2025-05-05T22:25:29.309Z"
   },
   {
    "duration": 6,
    "start_time": "2025-05-05T22:26:34.483Z"
   },
   {
    "duration": 62,
    "start_time": "2025-05-05T22:26:36.020Z"
   },
   {
    "duration": 122,
    "start_time": "2025-05-05T22:27:06.749Z"
   },
   {
    "duration": 70,
    "start_time": "2025-05-05T22:28:18.912Z"
   },
   {
    "duration": 88,
    "start_time": "2025-05-05T22:31:44.589Z"
   },
   {
    "duration": 22,
    "start_time": "2025-05-05T22:38:21.708Z"
   },
   {
    "duration": 120,
    "start_time": "2025-05-05T22:38:30.852Z"
   },
   {
    "duration": 242,
    "start_time": "2025-05-05T22:47:24.152Z"
   },
   {
    "duration": 197,
    "start_time": "2025-05-05T22:51:48.734Z"
   },
   {
    "duration": 206,
    "start_time": "2025-05-05T22:52:14.740Z"
   },
   {
    "duration": 520,
    "start_time": "2025-05-05T22:54:26.983Z"
   },
   {
    "duration": 268,
    "start_time": "2025-05-05T22:54:48.813Z"
   },
   {
    "duration": 184,
    "start_time": "2025-05-06T15:12:36.359Z"
   },
   {
    "duration": 148,
    "start_time": "2025-05-06T15:12:36.545Z"
   },
   {
    "duration": 462,
    "start_time": "2025-05-06T15:12:36.694Z"
   },
   {
    "duration": 3,
    "start_time": "2025-05-06T15:12:37.158Z"
   },
   {
    "duration": 2,
    "start_time": "2025-05-06T15:12:37.164Z"
   },
   {
    "duration": 1870,
    "start_time": "2025-05-06T15:12:37.168Z"
   },
   {
    "duration": 59,
    "start_time": "2025-05-06T15:12:39.040Z"
   },
   {
    "duration": 102,
    "start_time": "2025-05-06T15:12:39.100Z"
   },
   {
    "duration": 96,
    "start_time": "2025-05-06T15:12:39.204Z"
   },
   {
    "duration": 97,
    "start_time": "2025-05-06T15:12:39.301Z"
   },
   {
    "duration": 3,
    "start_time": "2025-05-06T15:12:39.400Z"
   },
   {
    "duration": 5,
    "start_time": "2025-05-06T15:12:39.405Z"
   },
   {
    "duration": 58,
    "start_time": "2025-05-06T15:12:39.412Z"
   },
   {
    "duration": 602,
    "start_time": "2025-05-06T15:12:39.473Z"
   },
   {
    "duration": 44,
    "start_time": "2025-05-06T15:12:40.077Z"
   },
   {
    "duration": 475,
    "start_time": "2025-05-06T15:12:40.131Z"
   },
   {
    "duration": 55,
    "start_time": "2025-05-06T15:12:40.608Z"
   },
   {
    "duration": 521,
    "start_time": "2025-05-06T15:12:40.665Z"
   },
   {
    "duration": 6,
    "start_time": "2025-05-06T15:12:41.188Z"
   },
   {
    "duration": 140,
    "start_time": "2025-05-06T15:12:41.196Z"
   },
   {
    "duration": 113,
    "start_time": "2025-05-06T15:12:41.338Z"
   },
   {
    "duration": 189,
    "start_time": "2025-05-06T15:12:41.452Z"
   },
   {
    "duration": 346,
    "start_time": "2025-05-06T15:12:41.643Z"
   },
   {
    "duration": 2,
    "start_time": "2025-05-06T15:41:19.405Z"
   },
   {
    "duration": 3,
    "start_time": "2025-05-06T15:42:01.996Z"
   },
   {
    "duration": 3,
    "start_time": "2025-05-06T15:43:04.865Z"
   },
   {
    "duration": 4,
    "start_time": "2025-05-06T15:43:20.956Z"
   },
   {
    "duration": 3,
    "start_time": "2025-05-06T15:55:12.925Z"
   },
   {
    "duration": 3,
    "start_time": "2025-05-06T18:05:10.867Z"
   },
   {
    "duration": 310,
    "start_time": "2025-05-06T18:09:48.760Z"
   },
   {
    "duration": 423,
    "start_time": "2025-05-06T18:09:52.651Z"
   },
   {
    "duration": 44,
    "start_time": "2025-05-06T18:10:14.753Z"
   },
   {
    "duration": 41,
    "start_time": "2025-05-06T18:10:49.921Z"
   },
   {
    "duration": 2,
    "start_time": "2025-05-06T18:14:42.819Z"
   },
   {
    "duration": 40,
    "start_time": "2025-05-06T18:14:43.681Z"
   },
   {
    "duration": 127,
    "start_time": "2025-05-06T18:14:57.842Z"
   },
   {
    "duration": 49,
    "start_time": "2025-05-06T18:15:31.261Z"
   },
   {
    "duration": 2,
    "start_time": "2025-05-06T18:15:33.432Z"
   },
   {
    "duration": 42,
    "start_time": "2025-05-06T18:15:33.906Z"
   },
   {
    "duration": 6,
    "start_time": "2025-05-06T18:16:57.820Z"
   },
   {
    "duration": 156,
    "start_time": "2025-05-06T18:17:08.695Z"
   },
   {
    "duration": 183,
    "start_time": "2025-05-06T18:17:08.857Z"
   },
   {
    "duration": 499,
    "start_time": "2025-05-06T18:17:09.043Z"
   },
   {
    "duration": 2,
    "start_time": "2025-05-06T18:17:09.544Z"
   },
   {
    "duration": 3,
    "start_time": "2025-05-06T18:17:09.549Z"
   },
   {
    "duration": 144,
    "start_time": "2025-05-06T18:17:09.554Z"
   },
   {
    "duration": 117,
    "start_time": "2025-05-06T18:17:09.700Z"
   },
   {
    "duration": 89,
    "start_time": "2025-05-06T18:17:09.819Z"
   },
   {
    "duration": 104,
    "start_time": "2025-05-06T18:17:09.912Z"
   },
   {
    "duration": 74,
    "start_time": "2025-05-06T18:17:10.018Z"
   },
   {
    "duration": 3,
    "start_time": "2025-05-06T18:17:10.094Z"
   },
   {
    "duration": 7,
    "start_time": "2025-05-06T18:17:10.099Z"
   },
   {
    "duration": 66,
    "start_time": "2025-05-06T18:17:10.109Z"
   },
   {
    "duration": 530,
    "start_time": "2025-05-06T18:17:10.179Z"
   },
   {
    "duration": 59,
    "start_time": "2025-05-06T18:17:10.711Z"
   },
   {
    "duration": 511,
    "start_time": "2025-05-06T18:17:10.773Z"
   },
   {
    "duration": 57,
    "start_time": "2025-05-06T18:17:11.286Z"
   },
   {
    "duration": 549,
    "start_time": "2025-05-06T18:17:11.346Z"
   },
   {
    "duration": 97,
    "start_time": "2025-05-06T18:17:11.898Z"
   },
   {
    "duration": 134,
    "start_time": "2025-05-06T18:17:11.997Z"
   },
   {
    "duration": 109,
    "start_time": "2025-05-06T18:17:12.134Z"
   },
   {
    "duration": 186,
    "start_time": "2025-05-06T18:17:12.245Z"
   },
   {
    "duration": 303,
    "start_time": "2025-05-06T18:17:12.433Z"
   },
   {
    "duration": 2,
    "start_time": "2025-05-06T18:17:12.738Z"
   },
   {
    "duration": 4,
    "start_time": "2025-05-06T18:17:12.742Z"
   },
   {
    "duration": 4,
    "start_time": "2025-05-06T18:17:12.748Z"
   },
   {
    "duration": 3,
    "start_time": "2025-05-06T18:17:12.754Z"
   },
   {
    "duration": 5,
    "start_time": "2025-05-06T18:17:28.427Z"
   },
   {
    "duration": 6,
    "start_time": "2025-05-06T18:17:47.682Z"
   },
   {
    "duration": 3,
    "start_time": "2025-05-06T18:18:34.679Z"
   },
   {
    "duration": 6,
    "start_time": "2025-05-06T18:18:45.450Z"
   },
   {
    "duration": 3,
    "start_time": "2025-05-06T18:19:19.669Z"
   },
   {
    "duration": 6,
    "start_time": "2025-05-06T18:19:26.117Z"
   },
   {
    "duration": 4,
    "start_time": "2025-05-06T18:21:51.028Z"
   },
   {
    "duration": 10,
    "start_time": "2025-05-06T18:24:14.528Z"
   },
   {
    "duration": 225,
    "start_time": "2025-05-06T18:24:59.079Z"
   },
   {
    "duration": 15,
    "start_time": "2025-05-06T18:25:14.765Z"
   },
   {
    "duration": 7,
    "start_time": "2025-05-06T18:26:19.098Z"
   },
   {
    "duration": 5,
    "start_time": "2025-05-06T18:34:04.166Z"
   },
   {
    "duration": 5,
    "start_time": "2025-05-06T18:40:18.393Z"
   },
   {
    "duration": 6,
    "start_time": "2025-05-06T20:03:30.200Z"
   },
   {
    "duration": 176,
    "start_time": "2025-05-06T20:07:27.391Z"
   },
   {
    "duration": 4,
    "start_time": "2025-05-06T21:17:50.826Z"
   },
   {
    "duration": 16,
    "start_time": "2025-05-06T22:09:40.416Z"
   },
   {
    "duration": 1364,
    "start_time": "2025-05-06T22:09:46.914Z"
   },
   {
    "duration": 9,
    "start_time": "2025-05-06T22:13:27.439Z"
   },
   {
    "duration": 4,
    "start_time": "2025-05-06T22:38:52.452Z"
   },
   {
    "duration": 4,
    "start_time": "2025-05-06T22:39:08.427Z"
   },
   {
    "duration": 4,
    "start_time": "2025-05-06T22:42:32.944Z"
   },
   {
    "duration": 3,
    "start_time": "2025-05-06T22:42:41.662Z"
   },
   {
    "duration": 3,
    "start_time": "2025-05-06T22:42:47.575Z"
   },
   {
    "duration": 3,
    "start_time": "2025-05-06T22:43:05.206Z"
   },
   {
    "duration": 1660,
    "start_time": "2025-05-06T23:06:15.546Z"
   },
   {
    "duration": 4,
    "start_time": "2025-05-06T23:06:54.961Z"
   },
   {
    "duration": 3,
    "start_time": "2025-05-06T23:07:22.357Z"
   },
   {
    "duration": 1743,
    "start_time": "2025-05-06T23:12:51.339Z"
   },
   {
    "duration": 5,
    "start_time": "2025-05-06T23:13:26.491Z"
   },
   {
    "duration": 3,
    "start_time": "2025-05-06T23:13:53.842Z"
   },
   {
    "duration": 19,
    "start_time": "2025-05-06T23:26:46.075Z"
   },
   {
    "duration": 479,
    "start_time": "2025-05-06T23:27:22.952Z"
   },
   {
    "duration": 177,
    "start_time": "2025-05-07T02:57:40.435Z"
   },
   {
    "duration": 197,
    "start_time": "2025-05-07T02:57:40.616Z"
   },
   {
    "duration": 489,
    "start_time": "2025-05-07T02:57:40.815Z"
   },
   {
    "duration": 2,
    "start_time": "2025-05-07T02:57:41.306Z"
   },
   {
    "duration": 3,
    "start_time": "2025-05-07T02:57:41.310Z"
   },
   {
    "duration": 1902,
    "start_time": "2025-05-07T02:57:41.315Z"
   },
   {
    "duration": 59,
    "start_time": "2025-05-07T02:57:43.218Z"
   },
   {
    "duration": 105,
    "start_time": "2025-05-07T02:57:43.279Z"
   },
   {
    "duration": 102,
    "start_time": "2025-05-07T02:57:43.386Z"
   },
   {
    "duration": 101,
    "start_time": "2025-05-07T02:57:43.490Z"
   },
   {
    "duration": 3,
    "start_time": "2025-05-07T02:57:43.593Z"
   },
   {
    "duration": 5,
    "start_time": "2025-05-07T02:57:43.599Z"
   },
   {
    "duration": 50,
    "start_time": "2025-05-07T02:57:43.606Z"
   },
   {
    "duration": 582,
    "start_time": "2025-05-07T02:57:43.660Z"
   },
   {
    "duration": 52,
    "start_time": "2025-05-07T02:57:44.244Z"
   },
   {
    "duration": 518,
    "start_time": "2025-05-07T02:57:44.299Z"
   },
   {
    "duration": 48,
    "start_time": "2025-05-07T02:57:44.819Z"
   },
   {
    "duration": 494,
    "start_time": "2025-05-07T02:57:44.869Z"
   },
   {
    "duration": 6,
    "start_time": "2025-05-07T02:57:45.365Z"
   },
   {
    "duration": 227,
    "start_time": "2025-05-07T02:57:45.373Z"
   },
   {
    "duration": 103,
    "start_time": "2025-05-07T02:57:45.603Z"
   },
   {
    "duration": 112,
    "start_time": "2025-05-07T02:57:45.786Z"
   },
   {
    "duration": 588,
    "start_time": "2025-05-07T02:57:45.901Z"
   },
   {
    "duration": 3,
    "start_time": "2025-05-07T02:57:46.491Z"
   },
   {
    "duration": 4,
    "start_time": "2025-05-07T02:57:46.496Z"
   },
   {
    "duration": 3,
    "start_time": "2025-05-07T02:57:46.501Z"
   },
   {
    "duration": 3,
    "start_time": "2025-05-07T02:57:46.506Z"
   },
   {
    "duration": 6,
    "start_time": "2025-05-07T02:57:46.511Z"
   },
   {
    "duration": 6,
    "start_time": "2025-05-07T02:57:46.587Z"
   },
   {
    "duration": 5,
    "start_time": "2025-05-07T02:57:46.595Z"
   },
   {
    "duration": 387,
    "start_time": "2025-05-07T02:57:46.602Z"
   },
   {
    "duration": 4,
    "start_time": "2025-05-07T02:57:46.993Z"
   },
   {
    "duration": 3413,
    "start_time": "2025-05-07T02:57:46.998Z"
   },
   {
    "duration": 4,
    "start_time": "2025-05-07T02:57:50.412Z"
   },
   {
    "duration": 4,
    "start_time": "2025-05-07T02:57:50.418Z"
   },
   {
    "duration": 3105,
    "start_time": "2025-05-07T02:57:50.424Z"
   },
   {
    "duration": 58,
    "start_time": "2025-05-07T02:57:53.530Z"
   },
   {
    "duration": 5,
    "start_time": "2025-05-07T02:57:53.590Z"
   },
   {
    "duration": 1740,
    "start_time": "2025-05-07T02:57:53.597Z"
   },
   {
    "duration": 3,
    "start_time": "2025-05-07T02:57:55.339Z"
   },
   {
    "duration": 3,
    "start_time": "2025-05-07T02:57:55.347Z"
   },
   {
    "duration": 538,
    "start_time": "2025-05-07T02:57:55.352Z"
   },
   {
    "duration": 8,
    "start_time": "2025-05-07T18:36:01.836Z"
   },
   {
    "duration": 6,
    "start_time": "2025-05-07T18:36:51.092Z"
   },
   {
    "duration": 5,
    "start_time": "2025-05-07T18:39:01.518Z"
   },
   {
    "duration": 3,
    "start_time": "2025-05-07T18:39:17.934Z"
   },
   {
    "duration": 5,
    "start_time": "2025-05-07T18:39:23.066Z"
   },
   {
    "duration": 156,
    "start_time": "2025-05-07T18:39:23.402Z"
   },
   {
    "duration": 182,
    "start_time": "2025-05-07T18:39:34.987Z"
   },
   {
    "duration": 138,
    "start_time": "2025-05-07T18:39:35.173Z"
   },
   {
    "duration": 448,
    "start_time": "2025-05-07T18:39:35.313Z"
   },
   {
    "duration": 3,
    "start_time": "2025-05-07T18:39:35.763Z"
   },
   {
    "duration": 3,
    "start_time": "2025-05-07T18:39:35.767Z"
   },
   {
    "duration": 1880,
    "start_time": "2025-05-07T18:39:35.772Z"
   },
   {
    "duration": 59,
    "start_time": "2025-05-07T18:39:37.654Z"
   },
   {
    "duration": 102,
    "start_time": "2025-05-07T18:39:37.715Z"
   },
   {
    "duration": 98,
    "start_time": "2025-05-07T18:39:37.819Z"
   },
   {
    "duration": 97,
    "start_time": "2025-05-07T18:39:37.921Z"
   },
   {
    "duration": 3,
    "start_time": "2025-05-07T18:39:38.019Z"
   },
   {
    "duration": 5,
    "start_time": "2025-05-07T18:39:38.024Z"
   },
   {
    "duration": 52,
    "start_time": "2025-05-07T18:39:38.031Z"
   },
   {
    "duration": 3,
    "start_time": "2025-05-07T18:44:41.218Z"
   },
   {
    "duration": 5,
    "start_time": "2025-05-07T18:44:42.200Z"
   },
   {
    "duration": 58,
    "start_time": "2025-05-07T18:44:42.950Z"
   },
   {
    "duration": 3,
    "start_time": "2025-05-07T18:46:11.172Z"
   },
   {
    "duration": 5,
    "start_time": "2025-05-07T18:46:11.433Z"
   },
   {
    "duration": 46,
    "start_time": "2025-05-07T18:46:11.958Z"
   },
   {
    "duration": 4,
    "start_time": "2025-05-07T18:47:01.316Z"
   },
   {
    "duration": 5,
    "start_time": "2025-05-07T18:47:01.720Z"
   },
   {
    "duration": 47,
    "start_time": "2025-05-07T18:47:02.220Z"
   },
   {
    "duration": 5,
    "start_time": "2025-05-07T18:49:40.884Z"
   },
   {
    "duration": 4,
    "start_time": "2025-05-07T18:49:53.237Z"
   },
   {
    "duration": 5,
    "start_time": "2025-05-07T18:50:19.064Z"
   },
   {
    "duration": 3,
    "start_time": "2025-05-07T18:50:24.379Z"
   },
   {
    "duration": 5,
    "start_time": "2025-05-07T18:50:27.355Z"
   },
   {
    "duration": 57,
    "start_time": "2025-05-07T18:50:27.666Z"
   },
   {
    "duration": 4,
    "start_time": "2025-05-07T18:50:53.153Z"
   },
   {
    "duration": 4,
    "start_time": "2025-05-07T18:50:53.772Z"
   },
   {
    "duration": 54,
    "start_time": "2025-05-07T18:50:54.181Z"
   },
   {
    "duration": 512,
    "start_time": "2025-05-07T19:02:52.524Z"
   },
   {
    "duration": 74,
    "start_time": "2025-05-07T19:02:57.302Z"
   },
   {
    "duration": 580,
    "start_time": "2025-05-07T19:03:50.124Z"
   },
   {
    "duration": 58,
    "start_time": "2025-05-07T19:03:53.628Z"
   },
   {
    "duration": 522,
    "start_time": "2025-05-07T19:04:41.986Z"
   },
   {
    "duration": 40,
    "start_time": "2025-05-07T19:07:04.694Z"
   },
   {
    "duration": 17,
    "start_time": "2025-05-07T19:07:49.091Z"
   },
   {
    "duration": 26,
    "start_time": "2025-05-07T19:08:47.428Z"
   },
   {
    "duration": 28,
    "start_time": "2025-05-07T19:09:20.454Z"
   },
   {
    "duration": 16,
    "start_time": "2025-05-07T19:09:38.868Z"
   },
   {
    "duration": 510,
    "start_time": "2025-05-07T19:09:41.308Z"
   },
   {
    "duration": 54,
    "start_time": "2025-05-07T19:09:43.968Z"
   },
   {
    "duration": 37,
    "start_time": "2025-05-07T19:12:14.189Z"
   },
   {
    "duration": 15,
    "start_time": "2025-05-07T19:12:46.610Z"
   },
   {
    "duration": 3,
    "start_time": "2025-05-07T19:19:34.056Z"
   },
   {
    "duration": 147,
    "start_time": "2025-05-07T19:19:46.114Z"
   },
   {
    "duration": 142,
    "start_time": "2025-05-07T19:19:46.266Z"
   },
   {
    "duration": 447,
    "start_time": "2025-05-07T19:19:46.410Z"
   },
   {
    "duration": 3,
    "start_time": "2025-05-07T19:19:46.858Z"
   },
   {
    "duration": 3,
    "start_time": "2025-05-07T19:19:46.863Z"
   },
   {
    "duration": 142,
    "start_time": "2025-05-07T19:19:46.868Z"
   },
   {
    "duration": 108,
    "start_time": "2025-05-07T19:19:47.012Z"
   },
   {
    "duration": 86,
    "start_time": "2025-05-07T19:19:47.122Z"
   },
   {
    "duration": 79,
    "start_time": "2025-05-07T19:19:47.210Z"
   },
   {
    "duration": 84,
    "start_time": "2025-05-07T19:19:47.291Z"
   },
   {
    "duration": 4,
    "start_time": "2025-05-07T19:19:47.378Z"
   },
   {
    "duration": 5,
    "start_time": "2025-05-07T19:19:47.384Z"
   },
   {
    "duration": 81,
    "start_time": "2025-05-07T19:19:47.391Z"
   },
   {
    "duration": 41,
    "start_time": "2025-05-07T19:19:47.476Z"
   },
   {
    "duration": 11,
    "start_time": "2025-05-07T19:19:47.519Z"
   },
   {
    "duration": 542,
    "start_time": "2025-05-07T19:19:47.544Z"
   },
   {
    "duration": 63,
    "start_time": "2025-05-07T19:19:48.088Z"
   },
   {
    "duration": 28,
    "start_time": "2025-05-07T19:19:48.153Z"
   },
   {
    "duration": 10,
    "start_time": "2025-05-07T19:19:48.182Z"
   },
   {
    "duration": 503,
    "start_time": "2025-05-07T19:19:48.194Z"
   },
   {
    "duration": 64,
    "start_time": "2025-05-07T19:19:48.699Z"
   },
   {
    "duration": 35,
    "start_time": "2025-05-07T19:19:48.765Z"
   },
   {
    "duration": 9,
    "start_time": "2025-05-07T19:19:48.802Z"
   },
   {
    "duration": 503,
    "start_time": "2025-05-07T19:19:48.813Z"
   },
   {
    "duration": 79,
    "start_time": "2025-05-07T19:19:49.318Z"
   },
   {
    "duration": 146,
    "start_time": "2025-05-07T19:19:49.398Z"
   },
   {
    "duration": 107,
    "start_time": "2025-05-07T19:19:49.546Z"
   },
   {
    "duration": 195,
    "start_time": "2025-05-07T19:19:49.655Z"
   },
   {
    "duration": 317,
    "start_time": "2025-05-07T19:19:49.852Z"
   },
   {
    "duration": 3,
    "start_time": "2025-05-07T19:19:50.171Z"
   },
   {
    "duration": 5,
    "start_time": "2025-05-07T19:19:50.175Z"
   },
   {
    "duration": 3,
    "start_time": "2025-05-07T19:19:50.182Z"
   },
   {
    "duration": 3,
    "start_time": "2025-05-07T19:19:50.187Z"
   },
   {
    "duration": 5,
    "start_time": "2025-05-07T19:19:50.192Z"
   },
   {
    "duration": 4,
    "start_time": "2025-05-07T19:19:50.199Z"
   },
   {
    "duration": 41,
    "start_time": "2025-05-07T19:19:50.204Z"
   },
   {
    "duration": 224,
    "start_time": "2025-05-07T19:19:50.248Z"
   },
   {
    "duration": 4,
    "start_time": "2025-05-07T19:19:50.474Z"
   },
   {
    "duration": 1578,
    "start_time": "2025-05-07T19:19:50.481Z"
   },
   {
    "duration": 3,
    "start_time": "2025-05-07T19:19:52.061Z"
   },
   {
    "duration": 3,
    "start_time": "2025-05-07T19:19:52.068Z"
   },
   {
    "duration": 1589,
    "start_time": "2025-05-07T19:19:52.073Z"
   },
   {
    "duration": 3,
    "start_time": "2025-05-07T19:19:53.664Z"
   },
   {
    "duration": 3,
    "start_time": "2025-05-07T19:19:53.669Z"
   },
   {
    "duration": 1610,
    "start_time": "2025-05-07T19:19:53.673Z"
   },
   {
    "duration": 4,
    "start_time": "2025-05-07T19:19:55.285Z"
   },
   {
    "duration": 5,
    "start_time": "2025-05-07T19:19:55.291Z"
   },
   {
    "duration": 448,
    "start_time": "2025-05-07T19:19:55.297Z"
   },
   {
    "duration": 135,
    "start_time": "2025-05-07T19:39:43.138Z"
   },
   {
    "duration": 163,
    "start_time": "2025-05-07T19:39:43.275Z"
   },
   {
    "duration": 477,
    "start_time": "2025-05-07T19:39:43.442Z"
   },
   {
    "duration": 4,
    "start_time": "2025-05-07T19:39:43.921Z"
   },
   {
    "duration": 2,
    "start_time": "2025-05-07T19:39:43.928Z"
   },
   {
    "duration": 143,
    "start_time": "2025-05-07T19:39:43.932Z"
   },
   {
    "duration": 116,
    "start_time": "2025-05-07T19:39:44.077Z"
   },
   {
    "duration": 80,
    "start_time": "2025-05-07T19:39:44.195Z"
   },
   {
    "duration": 78,
    "start_time": "2025-05-07T19:39:44.276Z"
   },
   {
    "duration": 74,
    "start_time": "2025-05-07T19:39:44.356Z"
   },
   {
    "duration": 4,
    "start_time": "2025-05-07T19:39:44.431Z"
   },
   {
    "duration": 10,
    "start_time": "2025-05-07T19:39:44.437Z"
   },
   {
    "duration": 63,
    "start_time": "2025-05-07T19:39:44.449Z"
   },
   {
    "duration": 55,
    "start_time": "2025-05-07T19:39:44.516Z"
   },
   {
    "duration": 12,
    "start_time": "2025-05-07T19:39:44.573Z"
   },
   {
    "duration": 524,
    "start_time": "2025-05-07T19:39:44.587Z"
   },
   {
    "duration": 75,
    "start_time": "2025-05-07T19:39:45.113Z"
   },
   {
    "duration": 30,
    "start_time": "2025-05-07T19:39:45.190Z"
   },
   {
    "duration": 21,
    "start_time": "2025-05-07T19:39:45.222Z"
   },
   {
    "duration": 507,
    "start_time": "2025-05-07T19:39:45.244Z"
   },
   {
    "duration": 60,
    "start_time": "2025-05-07T19:39:45.753Z"
   },
   {
    "duration": 54,
    "start_time": "2025-05-07T19:39:45.816Z"
   },
   {
    "duration": 10,
    "start_time": "2025-05-07T19:39:45.872Z"
   },
   {
    "duration": 517,
    "start_time": "2025-05-07T19:39:45.884Z"
   },
   {
    "duration": 83,
    "start_time": "2025-05-07T19:39:46.403Z"
   },
   {
    "duration": 158,
    "start_time": "2025-05-07T19:39:46.488Z"
   },
   {
    "duration": 114,
    "start_time": "2025-05-07T19:39:46.649Z"
   },
   {
    "duration": 192,
    "start_time": "2025-05-07T19:39:46.765Z"
   },
   {
    "duration": 355,
    "start_time": "2025-05-07T19:39:46.958Z"
   },
   {
    "duration": 3,
    "start_time": "2025-05-07T19:39:47.315Z"
   },
   {
    "duration": 4,
    "start_time": "2025-05-07T19:39:47.320Z"
   },
   {
    "duration": 3,
    "start_time": "2025-05-07T19:39:47.326Z"
   },
   {
    "duration": 4,
    "start_time": "2025-05-07T19:39:47.343Z"
   },
   {
    "duration": 6,
    "start_time": "2025-05-07T19:39:47.349Z"
   },
   {
    "duration": 5,
    "start_time": "2025-05-07T19:39:47.356Z"
   },
   {
    "duration": 5,
    "start_time": "2025-05-07T19:39:47.363Z"
   },
   {
    "duration": 210,
    "start_time": "2025-05-07T19:39:47.369Z"
   },
   {
    "duration": 4,
    "start_time": "2025-05-07T19:39:47.582Z"
   },
   {
    "duration": 1639,
    "start_time": "2025-05-07T19:39:47.587Z"
   },
   {
    "duration": 4,
    "start_time": "2025-05-07T19:39:49.228Z"
   },
   {
    "duration": 2,
    "start_time": "2025-05-07T19:39:49.245Z"
   },
   {
    "duration": 1655,
    "start_time": "2025-05-07T19:39:49.249Z"
   },
   {
    "duration": 9,
    "start_time": "2025-05-07T19:39:50.905Z"
   },
   {
    "duration": 6,
    "start_time": "2025-05-07T19:39:50.917Z"
   },
   {
    "duration": 1775,
    "start_time": "2025-05-07T19:39:50.926Z"
   },
   {
    "duration": 3,
    "start_time": "2025-05-07T19:39:52.703Z"
   },
   {
    "duration": 5,
    "start_time": "2025-05-07T19:39:52.708Z"
   },
   {
    "duration": 467,
    "start_time": "2025-05-07T19:39:52.715Z"
   }
  ],
  "kernelspec": {
   "display_name": "Python 3 (ipykernel)",
   "language": "python",
   "name": "python3"
  },
  "language_info": {
   "codemirror_mode": {
    "name": "ipython",
    "version": 3
   },
   "file_extension": ".py",
   "mimetype": "text/x-python",
   "name": "python",
   "nbconvert_exporter": "python",
   "pygments_lexer": "ipython3",
   "version": "3.12.4"
  },
  "toc": {
   "base_numbering": 1,
   "nav_menu": {},
   "number_sections": true,
   "sideBar": true,
   "skip_h1_title": true,
   "title_cell": "Table of Contents",
   "title_sidebar": "Contents",
   "toc_cell": false,
   "toc_position": {},
   "toc_section_display": true,
   "toc_window_display": false
  }
 },
 "nbformat": 4,
 "nbformat_minor": 4
}
